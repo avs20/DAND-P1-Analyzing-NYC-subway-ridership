{
 "cells": [
  {
   "cell_type": "markdown",
   "metadata": {},
   "source": [
    "# Analyzing the NYC Subway Dataset\n",
    "### By Ashutosh Singh"
   ]
  },
  {
   "cell_type": "markdown",
   "metadata": {},
   "source": [
    "### Section 0. References"
   ]
  },
  {
   "cell_type": "markdown",
   "metadata": {},
   "source": [
    "1. ggplot documentation at [http://yhathq.com](http://ggplot.yhathq.com/)\n",
    "2. http://www.itl.nist.gov/div898/handbook/pri/section2/pri24.htm\n",
    "3. [Udacity Discussion Forum](https://discussions.udacity.com/t/does-this-residuals-plot-indicate-that-linear-regression-is-appropriate-for-the-dataset/34160/3)\n"
   ]
  },
  {
   "cell_type": "markdown",
   "metadata": {},
   "source": [
    "### Section 1: Statistical test\n",
    "#### 1.1 Statistical test\n",
    "Mann-Whitney-U test is used to analyze the subway data. \n",
    "\n",
    "One tailed P-value is used. Python implementation of Mann-Whitney-u-test checks for one -tailed pvalues. To obtain the two tailed p- values we can multiply it by 2. \n",
    "\n",
    "#### Null-Hypothesis: \n",
    "The mean of the ridership on the rainy days and non-rainy days is not significantly different.\n",
    "\n",
    "The p-value obtained is **0.0249** which is less than the alpha -critical value of 0.05. \n",
    "#### 1.2 Reasoning\n",
    "Mann-Whitney-U test is application in this case as we are not assuming any difference in the values of \n",
    "two samples. We test that whether a particular population tends to differ from other. \n",
    "#### 1.3 Results:\n",
    "\n",
    "`Data         | Mean Value | p-Value`\n",
    "\n",
    "`With Rain    | 1105.447   | 0.0249`\n",
    "\n",
    "`Without Rain | 1090.279   | 0.0249`\n",
    "#### 1.4 Interpretation\n",
    "From the above table we can see that the mean values are different and the corresponding p- critical \n",
    "value is less than the alpha critical limit of 0.05. This means that it is very unlikely that the samples are \n",
    "from the same population as the probability is very low. \n",
    "Since the samples are from the different population. Then we can reject the null hypothesis that the \n",
    "ridership during the rainy and non-rainy days does not change. \n",
    "We can confidently say that rain has an effect on ridership."
   ]
  },
  {
   "cell_type": "markdown",
   "metadata": {},
   "source": [
    "### Section 2: Linear Regression\n",
    "#### 2.1 Algorithm \n",
    "For computing the data coefficients of the linear model which will fit the ridership data we used the \n",
    "Ordinary Least Square using the Statsmodels package. \n",
    "#### 2.2 Features \n",
    "The features used in the model are \n",
    "*  rain\n",
    "*  day_week\n",
    "*  hour\n",
    "\n",
    "I have also used the dummy variables in the model which are UNIT column in the dataframe. \n",
    "#### 2.3 Why the feature selection \n",
    "I decided to use the above mentioned features because of the following reasons\n",
    "\n",
    "a.  **Rain** : I thought that when it is rainy outside people tend to find the safest and easiest transport \n",
    "to travel. Also there may be traffic jams / other instances where people may get late to reach \n",
    "their destination. So I thought that rain may increase the ridership. \n",
    "\n",
    "b.  **Hour** : Subway Entries are dependent on hours of the day. More people leave home for work \n",
    "and since most of the jobs start between 8 to 10 am. Hence more people tend to travel at that \n",
    "period of time. \n",
    "\n",
    "c. **Weekday** : I chose this feature because on weekdays (monday - friday) people commute daily to their\n",
    "workplaces and it is common to use public transport on these days. Also on weekends people are more laid\n",
    "back and can use their private vehicles to venture into the city/other place.\n",
    "\n",
    "#### 2.4 Coefficients of features in Linear model \n",
    "Following table represents the coefficients calculated by the OLS model \n",
    "Feature  Coefficient\n",
    "\n",
    "* Intercept      **-104.220**\n",
    "* Hour            **123.386**\n",
    "* Rain            **37.011**\n",
    "* Weekday         **976.8896**\n",
    "\n",
    "The remaining coefficients are of the dummy variables hence removed from here . \n",
    "#### 2.5 R-squared value of model  \n",
    "The R-squared value of the model comes to be 0.48139. This value tells that we have approximately explained about 50% of the variability of number of Entries hourly. But it must be noted that even though the high R-squared value explains the variability but it is not necessary that high value should be interpreted as a good model fit."
   ]
  },
  {
   "cell_type": "markdown",
   "metadata": {
    "collapsed": true
   },
   "source": [
    "![](plots/residual_curve.png)"
   ]
  },
  {
   "cell_type": "markdown",
   "metadata": {},
   "source": [
    "### Section 3 : Visualization \n",
    "#### 3.1 Visualization for the hourly entries during rainy and non-rainy days. \n",
    "![](plots/rainyvsnon_Rainy.png)\n",
    "\n",
    "It may look like that the entries for the rainy day are more than the rainy days but this is false \n",
    "interpretation available from the graph. The graph looks like because the number of entries of the non-rainy days is much more than number of entries for rainy days. \n"
   ]
  },
  {
   "cell_type": "markdown",
   "metadata": {},
   "source": [
    "### 3.2 Visualization for Rider ship by time of day. \n",
    "![](plots/boxplot_comparison.png)\n",
    "\n",
    "From the visualization is section 3.2 it is clear that number of entries for the subway increase  at 12 pm \n",
    "and 8 pm.  But this may due to the aggregation of entries in 4 hour slots."
   ]
  },
  {
   "cell_type": "markdown",
   "metadata": {},
   "source": [
    "### Section 4 : Conclusion \n",
    "\n",
    "**4.1** From the analysis of the data it can be interpreted that more people ride the NYC subway when it is \n",
    "raining than when it is not raining. \n",
    "\n",
    "**4.2** The above analysis can be concluded as of following reasons \n",
    "\n",
    "* The samples of the people riding when it’s raining and when it’s not raining are statistically different \n",
    "and relevant as given by the p-value. Since the mean value of ridership during rain is more hence we can \n",
    "say that more people ride in the subway while it’s raining outside. \n",
    "\n",
    "* Nothing can be conclusively said by the parameters of the linear regression model but the coefficient \n",
    "value of the rain parameter in the model is positive and significant with respect to other parameters \n",
    "taken. Hence it is evident that raining outside has positive effect on the subway ridership."
   ]
  },
  {
   "cell_type": "markdown",
   "metadata": {},
   "source": [
    "### Section 5 : Reflection\n",
    "#### 5.1 Shortcomings of the method and analysis\n",
    "This dataset is good for basic analysis of the ridership and learning of the concepts but since the data is \n",
    "only of the May 2011 then this will only give us information of ridership according to month which may \n",
    "be dependent upon other factors. \n",
    "Also the data of hourly entries is I think clubbed into the interval of 4 hours. This generalization may also \n",
    "give false information about ridership at particular hour. \n",
    "Linear regression is a basic tool to get the feel of the data and if the data can be linearly modelled then it \n",
    "is a good tool but in the event of non-linear relationships, it may not provide the best analysis. I have used the ordinary least squares model for the model generation but there are other models also with different cost functions\n",
    "that may provide a better model. As for the features that I have taken as input are minimal (only 3) as of adding more features the R-squared value was increasing but that was not practically significant to make the model more complex. \n",
    "The residual plot has some long tails which calls for need of more exploration and may be different transformations of the data. \n",
    "\n",
    "In the end, this project gave a good overview of the process of taking a dataset and do some analysis on it. "
   ]
  }
 ],
 "metadata": {
  "kernelspec": {
   "display_name": "Python 2",
   "language": "python",
   "name": "python2"
  },
  "language_info": {
   "codemirror_mode": {
    "name": "ipython",
    "version": 2
   },
   "file_extension": ".py",
   "mimetype": "text/x-python",
   "name": "python",
   "nbconvert_exporter": "python",
   "pygments_lexer": "ipython2",
   "version": "2.7.10"
  }
 },
 "nbformat": 4,
 "nbformat_minor": 0
}
