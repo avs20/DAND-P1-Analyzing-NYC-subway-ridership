{
 "cells": [
  {
   "cell_type": "markdown",
   "metadata": {},
   "source": [
    "# Analyzing the NYC Subway Dataset\n",
    "### By Ashutosh Singh"
   ]
  },
  {
   "cell_type": "markdown",
   "metadata": {},
   "source": [
    "### Section 0. References"
   ]
  },
  {
   "cell_type": "markdown",
   "metadata": {},
   "source": [
    "1. ggplot documentation at [](yhathq.com)\n",
    "2. http://www.itl.nist.gov/div898/handbook/pri/section2/pri24.htm\n",
    "3. Udacity Discussion Forum"
   ]
  },
  {
   "cell_type": "markdown",
   "metadata": {},
   "source": [
    "### Section 1: Statistical test\n",
    "#### 1.1 Statistical test\n",
    "Mann-Whitney-U test is used to analyze the subway data. \n",
    "One tailed P-value is used. Python implementation of Mann-Whitney-u-test checks for one -tailed pvalues. To obtain the two tailed p- values we can multiply it by 2. \n",
    "Null-Hypothesis: The subway ridership is not affected by rain. \n",
    "The p-value obtained is 0.0249 which is less than the alpha -critical value of 0.05. \n",
    "#### 1.2 Reasoning\n",
    "Mann-Whitney-U test is application in this case as we are not assuming any difference in the values of \n",
    "two samples. We test that whether a particular population tends to differ from other. \n",
    "#### 1.3 Results:\n",
    "Data  Mean Value  p-Value\n",
    "With Rain  1105.447  0.0249\n",
    "Without Rain  1090.279  0.0249\n",
    "#### 1.4 Interpretation\n",
    "From the above table we can see that the mean values are different and the corresponding p- critical \n",
    "value is less than the alpha critical limit of 0.05. This means that it is very unlikely that the samples are \n",
    "from the same population as the probability is very low. \n",
    "Since the samples are from the different population. Then we can reject the null hypothesis that the \n",
    "ridership during the rainy and non-rainy days does not change. \n",
    "We can confidently say that rain has an effect on ridership."
   ]
  },
  {
   "cell_type": "markdown",
   "metadata": {},
   "source": [
    "### Section 2: Linear Regression\n",
    "#### 2.1 Algorithm \n",
    "For computing the data coefficients of the linear model which will fit the ridership data we used the \n",
    "Ordinary Least Square using the Statsmodels package. \n",
    "#### 2.2 Features \n",
    "The features used in the model are \n",
    "*  Rain\n",
    "*  Hour\n",
    "*  Mintempi\n",
    "\n",
    "I have also used the dummy variables in the model which are UNIT column in the dataframe. \n",
    "#### 2.3 Why the feature selection \n",
    "I decided to use the above mentioned features because of the following reasons\n",
    "a.  Rain : I thought that when it is rainy outside people tend to find the safest and easiest transport \n",
    "to travel. Also there may be traffic jams / other instances where people may get late to reach \n",
    "their destination. So I thought that rain may increase the ridership. \n",
    "b.  Hour : Subway Entries are dependent on hours of the day. More people leave home for work \n",
    "and since most of the jobs start between 8 to 10 am. Hence more people tend to travel at that \n",
    "period of time. \n",
    "c.  MinTempi : This feature I chose because it chose a positive ( but low ) correlation with the \n",
    "hourly entries and when I used it in the regression my R^2 value increased from 4.783 to 4.795. \n",
    "This increases the R^2 value but not much. Hence this feature can be dropped to keep the \n",
    "model simple. \n",
    "#### 2.4 Coefficients of features in Linear model \n",
    "Following table represents the coefficients calculated by the OLS model \n",
    "Feature  Coefficient\n",
    "Intercept  1591.94\n",
    "Hour  65.34\n",
    "Rain  62.09\n",
    "MinTempi  -13.10\n",
    "The remaining coefficients are of the dummy variables hence removed from here . \n",
    "#### 2.5 R-squared value of model  \n",
    "The R-squared value of the model comes to be 0.4795"
   ]
  },
  {
   "cell_type": "code",
   "execution_count": null,
   "metadata": {
    "collapsed": true
   },
   "outputs": [],
   "source": []
  }
 ],
 "metadata": {
  "kernelspec": {
   "display_name": "Python 2",
   "language": "python",
   "name": "python2"
  },
  "language_info": {
   "codemirror_mode": {
    "name": "ipython",
    "version": 2
   },
   "file_extension": ".py",
   "mimetype": "text/x-python",
   "name": "python",
   "nbconvert_exporter": "python",
   "pygments_lexer": "ipython2",
   "version": "2.7.9"
  }
 },
 "nbformat": 4,
 "nbformat_minor": 0
}
